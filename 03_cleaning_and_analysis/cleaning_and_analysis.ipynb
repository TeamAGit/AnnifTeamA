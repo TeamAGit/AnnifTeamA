{
 "cells": [
  {
   "cell_type": "code",
   "execution_count": 27,
   "metadata": {},
   "outputs": [],
   "source": [
    "import matplotlib.pyplot as plt\n",
    "import pandas as pd"
   ]
  },
  {
   "cell_type": "code",
   "execution_count": 28,
   "metadata": {},
   "outputs": [
    {
     "data": {
      "text/html": [
       "<div>\n",
       "<style scoped>\n",
       "    .dataframe tbody tr th:only-of-type {\n",
       "        vertical-align: middle;\n",
       "    }\n",
       "\n",
       "    .dataframe tbody tr th {\n",
       "        vertical-align: top;\n",
       "    }\n",
       "\n",
       "    .dataframe thead th {\n",
       "        text-align: right;\n",
       "    }\n",
       "</style>\n",
       "<table border=\"1\" class=\"dataframe\">\n",
       "  <thead>\n",
       "    <tr style=\"text-align: right;\">\n",
       "      <th></th>\n",
       "      <th>UID</th>\n",
       "      <th>Discipline</th>\n",
       "      <th>Title</th>\n",
       "      <th>Keywords</th>\n",
       "      <th>Content</th>\n",
       "      <th>RVK(s)</th>\n",
       "    </tr>\n",
       "  </thead>\n",
       "  <tbody>\n",
       "    <tr>\n",
       "      <th>0</th>\n",
       "      <td>27020</td>\n",
       "      <td>Betriebswirtschaft</td>\n",
       "      <td>Zur Bedeutung des Electronic Commerce und die ...</td>\n",
       "      <td>Electronic Commerce|Analyse|Hochschulschrift|E...</td>\n",
       "      <td>NaN</td>\n",
       "      <td>QP 120</td>\n",
       "    </tr>\n",
       "    <tr>\n",
       "      <th>1</th>\n",
       "      <td>46842</td>\n",
       "      <td>Wirtschaft / Recht</td>\n",
       "      <td>Die interne Revision als Internal Consultant -...</td>\n",
       "      <td>Hochschulschrift</td>\n",
       "      <td>NaN</td>\n",
       "      <td>PN 216</td>\n",
       "    </tr>\n",
       "    <tr>\n",
       "      <th>2</th>\n",
       "      <td>252219</td>\n",
       "      <td>Europäisches Management</td>\n",
       "      <td>Der Krieg um die Talente geht weiter: Organisa...</td>\n",
       "      <td>Organisationsentwicklung|Dienstleistungsbetrie...</td>\n",
       "      <td>Inhaltsverzeichnis Tabellenverzeichnis • V Abk...</td>\n",
       "      <td>QP 120</td>\n",
       "    </tr>\n",
       "    <tr>\n",
       "      <th>3</th>\n",
       "      <td>252220</td>\n",
       "      <td>Europäisches Management</td>\n",
       "      <td>Der zentralamerikanischen Zollunion: Fortschri...</td>\n",
       "      <td>Zollunion|Freier Warenverkehr|Hochschulschrift...</td>\n",
       "      <td>Table of Contents Acknowledgements V Abstract ...</td>\n",
       "      <td>QP 120</td>\n",
       "    </tr>\n",
       "    <tr>\n",
       "      <th>4</th>\n",
       "      <td>48555</td>\n",
       "      <td>Betriebswirtschaft</td>\n",
       "      <td>Global Sourcing im Einkauf von Fertigwaren - d...</td>\n",
       "      <td>Hochschulschrift</td>\n",
       "      <td>NaN</td>\n",
       "      <td>QP 120</td>\n",
       "    </tr>\n",
       "  </tbody>\n",
       "</table>\n",
       "</div>"
      ],
      "text/plain": [
       "      UID               Discipline  \\\n",
       "0   27020       Betriebswirtschaft   \n",
       "1   46842       Wirtschaft / Recht   \n",
       "2  252219  Europäisches Management   \n",
       "3  252220  Europäisches Management   \n",
       "4   48555       Betriebswirtschaft   \n",
       "\n",
       "                                               Title  \\\n",
       "0  Zur Bedeutung des Electronic Commerce und die ...   \n",
       "1  Die interne Revision als Internal Consultant -...   \n",
       "2  Der Krieg um die Talente geht weiter: Organisa...   \n",
       "3  Der zentralamerikanischen Zollunion: Fortschri...   \n",
       "4  Global Sourcing im Einkauf von Fertigwaren - d...   \n",
       "\n",
       "                                            Keywords  \\\n",
       "0  Electronic Commerce|Analyse|Hochschulschrift|E...   \n",
       "1                                   Hochschulschrift   \n",
       "2  Organisationsentwicklung|Dienstleistungsbetrie...   \n",
       "3  Zollunion|Freier Warenverkehr|Hochschulschrift...   \n",
       "4                                   Hochschulschrift   \n",
       "\n",
       "                                             Content  RVK(s)  \n",
       "0                                                NaN  QP 120  \n",
       "1                                                NaN  PN 216  \n",
       "2  Inhaltsverzeichnis Tabellenverzeichnis • V Abk...  QP 120  \n",
       "3  Table of Contents Acknowledgements V Abstract ...  QP 120  \n",
       "4                                                NaN  QP 120  "
      ]
     },
     "execution_count": 28,
     "metadata": {},
     "output_type": "execute_result"
    }
   ],
   "source": [
    "df = pd.read_csv(\"../extraction_of_th-wildau_repository/records_th-wildau.csv\")\n",
    "df.head()"
   ]
  },
  {
   "cell_type": "markdown",
   "metadata": {},
   "source": [
    "## Analysis of None Values"
   ]
  },
  {
   "cell_type": "code",
   "execution_count": 29,
   "metadata": {},
   "outputs": [
    {
     "name": "stdout",
     "output_type": "stream",
     "text": [
      "Column 'UID' has 0 / 16530 missing values.\n",
      "Column 'Discipline' has 6 / 16530 missing values.\n",
      "Column 'Title' has 0 / 16530 missing values.\n",
      "Column 'Keywords' has 45 / 16530 missing values.\n",
      "Column 'Content' has 8867 / 16530 missing values.\n",
      "Column 'RVK(s)' has 583 / 16530 missing values.\n"
     ]
    },
    {
     "data": {
      "image/png": "[encoded data removed]",
      "text/plain": [
       "<Figure size 400x400 with 1 Axes>"
      ]
     },
     "metadata": {},
     "output_type": "display_data"
    },
    {
     "data": {
      "image/png": "[encoded data removed]",
      "text/plain": [
       "<Figure size 400x400 with 1 Axes>"
      ]
     },
     "metadata": {},
     "output_type": "display_data"
    },
    {
     "data": {
      "image/png": "[encoded data removed]",
      "text/plain": [
       "<Figure size 400x400 with 1 Axes>"
      ]
     },
     "metadata": {},
     "output_type": "display_data"
    },
    {
     "data": {
      "image/png": "[encoded data removed]",
      "text/plain": [
       "<Figure size 400x400 with 1 Axes>"
      ]
     },
     "metadata": {},
     "output_type": "display_data"
    },
    {
     "data": {
      "image/png": "[encoded data removed]",
      "text/plain": [
       "<Figure size 400x400 with 1 Axes>"
      ]
     },
     "metadata": {},
     "output_type": "display_data"
    },
    {
     "data": {
      "image/png": "[encoded data removed]",
      "text/plain": [
       "<Figure size 400x400 with 1 Axes>"
      ]
     },
     "metadata": {},
     "output_type": "display_data"
    }
   ],
   "source": [
    "for column_name in df.columns:\n",
    "\tmissing_values = df[column_name].isna().sum()\n",
    "\tvalues = len(df) - missing_values\n",
    "\tprint(f\"Column '{column_name}' has {missing_values} / {len(df)} missing values.\")\n",
    "\tplt.figure(figsize=(4,4))\n",
    "\tplt.ylim([0, 16000])\n",
    "\tplt.title(f\"Column '{column_name}': None and Values\")\n",
    "\tplt.bar([\"Missing Values\", \"Values\"], [missing_values, values])\n",
    "\tplt.ylabel(\"No. of Documents\")\n"
   ]
  },
  {
   "cell_type": "markdown",
   "metadata": {},
   "source": [
    "## Analysis of Language\n",
    "The TH Wildau repository provides a laguage code. However, this code is unreliable describing the language of the given metadata. As previous test sample has shown, meta data in the TH Wildau repository can be in mixed languages. A title can be in German, the table of content can be in English or vice versa. Unfortunately, meta data information with mixed language is useless for our purposes. As a consequence, we use the Python package langdetect to identify documents with uniform language use. "
   ]
  },
  {
   "cell_type": "code",
   "execution_count": 30,
   "metadata": {},
   "outputs": [],
   "source": [
    "from langdetect import detect\n",
    "from langdetect.lang_detect_exception import LangDetectException"
   ]
  },
  {
   "cell_type": "code",
   "execution_count": 31,
   "metadata": {},
   "outputs": [
    {
     "data": {
      "text/html": [
       "<div>\n",
       "<style scoped>\n",
       "    .dataframe tbody tr th:only-of-type {\n",
       "        vertical-align: middle;\n",
       "    }\n",
       "\n",
       "    .dataframe tbody tr th {\n",
       "        vertical-align: top;\n",
       "    }\n",
       "\n",
       "    .dataframe thead th {\n",
       "        text-align: right;\n",
       "    }\n",
       "</style>\n",
       "<table border=\"1\" class=\"dataframe\">\n",
       "  <thead>\n",
       "    <tr style=\"text-align: right;\">\n",
       "      <th></th>\n",
       "      <th>UID</th>\n",
       "      <th>Discipline</th>\n",
       "      <th>Title</th>\n",
       "      <th>Keywords</th>\n",
       "      <th>Content</th>\n",
       "      <th>RVK(s)</th>\n",
       "    </tr>\n",
       "  </thead>\n",
       "  <tbody>\n",
       "    <tr>\n",
       "      <th>0</th>\n",
       "      <td>27020</td>\n",
       "      <td>Betriebswirtschaft</td>\n",
       "      <td>Zur Bedeutung des Electronic Commerce und die ...</td>\n",
       "      <td>Electronic Commerce|Analyse|Hochschulschrift|E...</td>\n",
       "      <td>NaN</td>\n",
       "      <td>QP 120</td>\n",
       "    </tr>\n",
       "    <tr>\n",
       "      <th>1</th>\n",
       "      <td>46842</td>\n",
       "      <td>Wirtschaft / Recht</td>\n",
       "      <td>Die interne Revision als Internal Consultant -...</td>\n",
       "      <td>Hochschulschrift</td>\n",
       "      <td>NaN</td>\n",
       "      <td>PN 216</td>\n",
       "    </tr>\n",
       "    <tr>\n",
       "      <th>2</th>\n",
       "      <td>252219</td>\n",
       "      <td>Europäisches Management</td>\n",
       "      <td>Der Krieg um die Talente geht weiter: Organisa...</td>\n",
       "      <td>Organisationsentwicklung|Dienstleistungsbetrie...</td>\n",
       "      <td>Inhaltsverzeichnis Tabellenverzeichnis • V Abk...</td>\n",
       "      <td>QP 120</td>\n",
       "    </tr>\n",
       "    <tr>\n",
       "      <th>3</th>\n",
       "      <td>252220</td>\n",
       "      <td>Europäisches Management</td>\n",
       "      <td>Der zentralamerikanischen Zollunion: Fortschri...</td>\n",
       "      <td>Zollunion|Freier Warenverkehr|Hochschulschrift...</td>\n",
       "      <td>Table of Contents Acknowledgements V Abstract ...</td>\n",
       "      <td>QP 120</td>\n",
       "    </tr>\n",
       "    <tr>\n",
       "      <th>4</th>\n",
       "      <td>48555</td>\n",
       "      <td>Betriebswirtschaft</td>\n",
       "      <td>Global Sourcing im Einkauf von Fertigwaren - d...</td>\n",
       "      <td>Hochschulschrift</td>\n",
       "      <td>NaN</td>\n",
       "      <td>QP 120</td>\n",
       "    </tr>\n",
       "  </tbody>\n",
       "</table>\n",
       "</div>"
      ],
      "text/plain": [
       "      UID               Discipline  \\\n",
       "0   27020       Betriebswirtschaft   \n",
       "1   46842       Wirtschaft / Recht   \n",
       "2  252219  Europäisches Management   \n",
       "3  252220  Europäisches Management   \n",
       "4   48555       Betriebswirtschaft   \n",
       "\n",
       "                                               Title  \\\n",
       "0  Zur Bedeutung des Electronic Commerce und die ...   \n",
       "1  Die interne Revision als Internal Consultant -...   \n",
       "2  Der Krieg um die Talente geht weiter: Organisa...   \n",
       "3  Der zentralamerikanischen Zollunion: Fortschri...   \n",
       "4  Global Sourcing im Einkauf von Fertigwaren - d...   \n",
       "\n",
       "                                            Keywords  \\\n",
       "0  Electronic Commerce|Analyse|Hochschulschrift|E...   \n",
       "1                                   Hochschulschrift   \n",
       "2  Organisationsentwicklung|Dienstleistungsbetrie...   \n",
       "3  Zollunion|Freier Warenverkehr|Hochschulschrift...   \n",
       "4                                   Hochschulschrift   \n",
       "\n",
       "                                             Content  RVK(s)  \n",
       "0                                                NaN  QP 120  \n",
       "1                                                NaN  PN 216  \n",
       "2  Inhaltsverzeichnis Tabellenverzeichnis • V Abk...  QP 120  \n",
       "3  Table of Contents Acknowledgements V Abstract ...  QP 120  \n",
       "4                                                NaN  QP 120  "
      ]
     },
     "execution_count": 31,
     "metadata": {},
     "output_type": "execute_result"
    }
   ],
   "source": [
    "df.head()"
   ]
  },
  {
   "cell_type": "markdown",
   "metadata": {},
   "source": [
    "Since only 50% of table of contents are available, we delete the \"Content\" column."
   ]
  },
  {
   "cell_type": "code",
   "execution_count": 32,
   "metadata": {},
   "outputs": [],
   "source": [
    "df.drop(\"Content\", axis=1, inplace=True)\n"
   ]
  },
  {
   "cell_type": "markdown",
   "metadata": {},
   "source": [
    "To do the language analysis properly, we delete all rows containing at least one missing value."
   ]
  },
  {
   "cell_type": "code",
   "execution_count": 33,
   "metadata": {},
   "outputs": [
    {
     "name": "stdout",
     "output_type": "stream",
     "text": [
      "15924 documents are left.\n"
     ]
    }
   ],
   "source": [
    "# Check if it worked.\n",
    "df.dropna(inplace=True)\n",
    "print(f\"{len(df)} documents are left.\")"
   ]
  },
  {
   "cell_type": "code",
   "execution_count": 34,
   "metadata": {},
   "outputs": [
    {
     "data": {
      "text/html": [
       "<div>\n",
       "<style scoped>\n",
       "    .dataframe tbody tr th:only-of-type {\n",
       "        vertical-align: middle;\n",
       "    }\n",
       "\n",
       "    .dataframe tbody tr th {\n",
       "        vertical-align: top;\n",
       "    }\n",
       "\n",
       "    .dataframe thead th {\n",
       "        text-align: right;\n",
       "    }\n",
       "</style>\n",
       "<table border=\"1\" class=\"dataframe\">\n",
       "  <thead>\n",
       "    <tr style=\"text-align: right;\">\n",
       "      <th></th>\n",
       "      <th>UID</th>\n",
       "      <th>Discipline</th>\n",
       "      <th>Title</th>\n",
       "      <th>Keywords</th>\n",
       "      <th>RVK(s)</th>\n",
       "    </tr>\n",
       "  </thead>\n",
       "  <tbody>\n",
       "    <tr>\n",
       "      <th>0</th>\n",
       "      <td>27020</td>\n",
       "      <td>Betriebswirtschaft</td>\n",
       "      <td>Zur Bedeutung des Electronic Commerce und die ...</td>\n",
       "      <td>Electronic Commerce|Analyse|Hochschulschrift|E...</td>\n",
       "      <td>QP 120</td>\n",
       "    </tr>\n",
       "    <tr>\n",
       "      <th>1</th>\n",
       "      <td>46842</td>\n",
       "      <td>Wirtschaft / Recht</td>\n",
       "      <td>Die interne Revision als Internal Consultant -...</td>\n",
       "      <td>Hochschulschrift</td>\n",
       "      <td>PN 216</td>\n",
       "    </tr>\n",
       "    <tr>\n",
       "      <th>2</th>\n",
       "      <td>252219</td>\n",
       "      <td>Europäisches Management</td>\n",
       "      <td>Der Krieg um die Talente geht weiter: Organisa...</td>\n",
       "      <td>Organisationsentwicklung|Dienstleistungsbetrie...</td>\n",
       "      <td>QP 120</td>\n",
       "    </tr>\n",
       "    <tr>\n",
       "      <th>3</th>\n",
       "      <td>252220</td>\n",
       "      <td>Europäisches Management</td>\n",
       "      <td>Der zentralamerikanischen Zollunion: Fortschri...</td>\n",
       "      <td>Zollunion|Freier Warenverkehr|Hochschulschrift...</td>\n",
       "      <td>QP 120</td>\n",
       "    </tr>\n",
       "    <tr>\n",
       "      <th>4</th>\n",
       "      <td>48555</td>\n",
       "      <td>Betriebswirtschaft</td>\n",
       "      <td>Global Sourcing im Einkauf von Fertigwaren - d...</td>\n",
       "      <td>Hochschulschrift</td>\n",
       "      <td>QP 120</td>\n",
       "    </tr>\n",
       "  </tbody>\n",
       "</table>\n",
       "</div>"
      ],
      "text/plain": [
       "      UID               Discipline  \\\n",
       "0   27020       Betriebswirtschaft   \n",
       "1   46842       Wirtschaft / Recht   \n",
       "2  252219  Europäisches Management   \n",
       "3  252220  Europäisches Management   \n",
       "4   48555       Betriebswirtschaft   \n",
       "\n",
       "                                               Title  \\\n",
       "0  Zur Bedeutung des Electronic Commerce und die ...   \n",
       "1  Die interne Revision als Internal Consultant -...   \n",
       "2  Der Krieg um die Talente geht weiter: Organisa...   \n",
       "3  Der zentralamerikanischen Zollunion: Fortschri...   \n",
       "4  Global Sourcing im Einkauf von Fertigwaren - d...   \n",
       "\n",
       "                                            Keywords  RVK(s)  \n",
       "0  Electronic Commerce|Analyse|Hochschulschrift|E...  QP 120  \n",
       "1                                   Hochschulschrift  PN 216  \n",
       "2  Organisationsentwicklung|Dienstleistungsbetrie...  QP 120  \n",
       "3  Zollunion|Freier Warenverkehr|Hochschulschrift...  QP 120  \n",
       "4                                   Hochschulschrift  QP 120  "
      ]
     },
     "execution_count": 34,
     "metadata": {},
     "output_type": "execute_result"
    }
   ],
   "source": [
    "df.head()"
   ]
  },
  {
   "cell_type": "markdown",
   "metadata": {},
   "source": [
    "We create a function that does the analysis for Title and Keywords. Then it compares if language is uniform or mixed."
   ]
  },
  {
   "cell_type": "code",
   "execution_count": 35,
   "metadata": {},
   "outputs": [],
   "source": [
    "\n",
    "lang_title = list(df[\"Title\"].apply(lambda x: detect(x)))"
   ]
  },
  {
   "cell_type": "code",
   "execution_count": 36,
   "metadata": {},
   "outputs": [],
   "source": [
    "lang_keywords = list(df[\"Keywords\"].apply(lambda x: detect(x)))"
   ]
  },
  {
   "cell_type": "code",
   "execution_count": 37,
   "metadata": {},
   "outputs": [],
   "source": [
    "language = []\n",
    "for i in range(len(lang_title)):\n",
    "\tif lang_title[i] == lang_keywords[i]:\n",
    "\t\tlanguage.append(lang_title[i])\n",
    "\telse:\n",
    "\t\tlanguage.append(\"mixed\")"
   ]
  },
  {
   "cell_type": "code",
   "execution_count": 38,
   "metadata": {},
   "outputs": [],
   "source": [
    "# Add language information to DataFrame.\n",
    "df[\"Language\"] = language"
   ]
  },
  {
   "cell_type": "markdown",
   "metadata": {},
   "source": [
    "Show distribution of languages."
   ]
  },
  {
   "cell_type": "code",
   "execution_count": 39,
   "metadata": {},
   "outputs": [
    {
     "data": {
      "text/plain": [
       "de       15046\n",
       "mixed      866\n",
       "en          10\n",
       "nl           2\n",
       "Name: Language, dtype: int64"
      ]
     },
     "execution_count": 39,
     "metadata": {},
     "output_type": "execute_result"
    }
   ],
   "source": [
    "lang_distribution = df[\"Language\"].value_counts()\n",
    "lang_distribution"
   ]
  },
  {
   "cell_type": "markdown",
   "metadata": {},
   "source": [
    "Visual distribution:"
   ]
  },
  {
   "cell_type": "code",
   "execution_count": 40,
   "metadata": {},
   "outputs": [
    {
     "data": {
      "text/plain": [
       "<Axes: >"
      ]
     },
     "execution_count": 40,
     "metadata": {},
     "output_type": "execute_result"
    },
    {
     "data": {
      "image/png": "[encoded data removed]",
      "text/plain": [
       "<Figure size 640x480 with 1 Axes>"
      ]
     },
     "metadata": {},
     "output_type": "display_data"
    }
   ],
   "source": [
    "lang_distribution.plot(kind=\"bar\")"
   ]
  },
  {
   "cell_type": "markdown",
   "metadata": {},
   "source": [
    "Test sample is Ok, but not perfect:"
   ]
  },
  {
   "cell_type": "code",
   "execution_count": 41,
   "metadata": {},
   "outputs": [
    {
     "data": {
      "text/html": [
       "<div>\n",
       "<style scoped>\n",
       "    .dataframe tbody tr th:only-of-type {\n",
       "        vertical-align: middle;\n",
       "    }\n",
       "\n",
       "    .dataframe tbody tr th {\n",
       "        vertical-align: top;\n",
       "    }\n",
       "\n",
       "    .dataframe thead th {\n",
       "        text-align: right;\n",
       "    }\n",
       "</style>\n",
       "<table border=\"1\" class=\"dataframe\">\n",
       "  <thead>\n",
       "    <tr style=\"text-align: right;\">\n",
       "      <th></th>\n",
       "      <th>UID</th>\n",
       "      <th>Discipline</th>\n",
       "      <th>Title</th>\n",
       "      <th>Keywords</th>\n",
       "      <th>RVK(s)</th>\n",
       "      <th>Language</th>\n",
       "    </tr>\n",
       "  </thead>\n",
       "  <tbody>\n",
       "    <tr>\n",
       "      <th>0</th>\n",
       "      <td>27020</td>\n",
       "      <td>Betriebswirtschaft</td>\n",
       "      <td>Zur Bedeutung des Electronic Commerce und die ...</td>\n",
       "      <td>Electronic Commerce|Analyse|Hochschulschrift|E...</td>\n",
       "      <td>QP 120</td>\n",
       "      <td>mixed</td>\n",
       "    </tr>\n",
       "    <tr>\n",
       "      <th>46</th>\n",
       "      <td>124287</td>\n",
       "      <td>Biosystemtechnik / Bioinformatik</td>\n",
       "      <td>Genomic variant detection for formalin fixed p...</td>\n",
       "      <td>Sequenzierbibliothek|Formalin-Fixierung|Tumor|...</td>\n",
       "      <td>WF 9720|ST 690</td>\n",
       "      <td>mixed</td>\n",
       "    </tr>\n",
       "    <tr>\n",
       "      <th>65</th>\n",
       "      <td>252279</td>\n",
       "      <td>Technical Management</td>\n",
       "      <td>Implementation of a CRM system in a medium-siz...</td>\n",
       "      <td>Kundenmanagement|Klein- und Mittelbetrieb|Hoch...</td>\n",
       "      <td>QP 500</td>\n",
       "      <td>mixed</td>\n",
       "    </tr>\n",
       "    <tr>\n",
       "      <th>74</th>\n",
       "      <td>122155</td>\n",
       "      <td>Europäisches Management</td>\n",
       "      <td>Discussion on China market entry strategies of...</td>\n",
       "      <td>Markteintrittsstrategie|Luxusgüterindustrie|Ch...</td>\n",
       "      <td>QP 120</td>\n",
       "      <td>mixed</td>\n",
       "    </tr>\n",
       "    <tr>\n",
       "      <th>96</th>\n",
       "      <td>4977</td>\n",
       "      <td>Technologie der metallverarbeitenden Industrie</td>\n",
       "      <td>Softwareanpassung an das Programmpaket \"TEFU\"</td>\n",
       "      <td>Programmierung|Software|Hochschulschrift|Progr...</td>\n",
       "      <td>ZS 3300</td>\n",
       "      <td>mixed</td>\n",
       "    </tr>\n",
       "    <tr>\n",
       "      <th>...</th>\n",
       "      <td>...</td>\n",
       "      <td>...</td>\n",
       "      <td>...</td>\n",
       "      <td>...</td>\n",
       "      <td>...</td>\n",
       "      <td>...</td>\n",
       "    </tr>\n",
       "    <tr>\n",
       "      <th>16377</th>\n",
       "      <td>147807</td>\n",
       "      <td>Wirtschaftsinformatik</td>\n",
       "      <td>Modern Client-Server Web Application Developme...</td>\n",
       "      <td>Programmierung|Framework (Informatik)|Hochschu...</td>\n",
       "      <td>QH 500|ST 230</td>\n",
       "      <td>mixed</td>\n",
       "    </tr>\n",
       "    <tr>\n",
       "      <th>16414</th>\n",
       "      <td>61918</td>\n",
       "      <td>Betriebswirtschaft</td>\n",
       "      <td>Comparison of the group cash flow statement ac...</td>\n",
       "      <td>Cashflow|Unternehmensplanung|Hochschulschrift|...</td>\n",
       "      <td>QP 120</td>\n",
       "      <td>mixed</td>\n",
       "    </tr>\n",
       "    <tr>\n",
       "      <th>16416</th>\n",
       "      <td>246095</td>\n",
       "      <td>Technical Management</td>\n",
       "      <td>Analysis of risks within the working environme...</td>\n",
       "      <td>Lastkraftwagenfahrer|Güterverkehr|Hochschulsch...</td>\n",
       "      <td>QP 500</td>\n",
       "      <td>mixed</td>\n",
       "    </tr>\n",
       "    <tr>\n",
       "      <th>16417</th>\n",
       "      <td>36876</td>\n",
       "      <td>Betriebswirtschaft</td>\n",
       "      <td>Mobile Marketing - Werbeinteressen und Privats...</td>\n",
       "      <td>Marketing|Privatsphäre|Hochschulschrift|Market...</td>\n",
       "      <td>QP 120</td>\n",
       "      <td>mixed</td>\n",
       "    </tr>\n",
       "    <tr>\n",
       "      <th>16419</th>\n",
       "      <td>246096</td>\n",
       "      <td>Logistics / Supply Chain Management</td>\n",
       "      <td>The impact of changing customer behavior on th...</td>\n",
       "      <td>Verbraucherverhalten|Digitalisierung|Electroni...</td>\n",
       "      <td>QP 500</td>\n",
       "      <td>mixed</td>\n",
       "    </tr>\n",
       "  </tbody>\n",
       "</table>\n",
       "<p>866 rows × 6 columns</p>\n",
       "</div>"
      ],
      "text/plain": [
       "          UID                                      Discipline  \\\n",
       "0       27020                              Betriebswirtschaft   \n",
       "46     124287                Biosystemtechnik / Bioinformatik   \n",
       "65     252279                            Technical Management   \n",
       "74     122155                         Europäisches Management   \n",
       "96       4977  Technologie der metallverarbeitenden Industrie   \n",
       "...       ...                                             ...   \n",
       "16377  147807                           Wirtschaftsinformatik   \n",
       "16414   61918                              Betriebswirtschaft   \n",
       "16416  246095                            Technical Management   \n",
       "16417   36876                              Betriebswirtschaft   \n",
       "16419  246096             Logistics / Supply Chain Management   \n",
       "\n",
       "                                                   Title  \\\n",
       "0      Zur Bedeutung des Electronic Commerce und die ...   \n",
       "46     Genomic variant detection for formalin fixed p...   \n",
       "65     Implementation of a CRM system in a medium-siz...   \n",
       "74     Discussion on China market entry strategies of...   \n",
       "96         Softwareanpassung an das Programmpaket \"TEFU\"   \n",
       "...                                                  ...   \n",
       "16377  Modern Client-Server Web Application Developme...   \n",
       "16414  Comparison of the group cash flow statement ac...   \n",
       "16416  Analysis of risks within the working environme...   \n",
       "16417  Mobile Marketing - Werbeinteressen und Privats...   \n",
       "16419  The impact of changing customer behavior on th...   \n",
       "\n",
       "                                                Keywords          RVK(s)  \\\n",
       "0      Electronic Commerce|Analyse|Hochschulschrift|E...          QP 120   \n",
       "46     Sequenzierbibliothek|Formalin-Fixierung|Tumor|...  WF 9720|ST 690   \n",
       "65     Kundenmanagement|Klein- und Mittelbetrieb|Hoch...          QP 500   \n",
       "74     Markteintrittsstrategie|Luxusgüterindustrie|Ch...          QP 120   \n",
       "96     Programmierung|Software|Hochschulschrift|Progr...         ZS 3300   \n",
       "...                                                  ...             ...   \n",
       "16377  Programmierung|Framework (Informatik)|Hochschu...   QH 500|ST 230   \n",
       "16414  Cashflow|Unternehmensplanung|Hochschulschrift|...          QP 120   \n",
       "16416  Lastkraftwagenfahrer|Güterverkehr|Hochschulsch...          QP 500   \n",
       "16417  Marketing|Privatsphäre|Hochschulschrift|Market...          QP 120   \n",
       "16419  Verbraucherverhalten|Digitalisierung|Electroni...          QP 500   \n",
       "\n",
       "      Language  \n",
       "0        mixed  \n",
       "46       mixed  \n",
       "65       mixed  \n",
       "74       mixed  \n",
       "96       mixed  \n",
       "...        ...  \n",
       "16377    mixed  \n",
       "16414    mixed  \n",
       "16416    mixed  \n",
       "16417    mixed  \n",
       "16419    mixed  \n",
       "\n",
       "[866 rows x 6 columns]"
      ]
     },
     "execution_count": 41,
     "metadata": {},
     "output_type": "execute_result"
    }
   ],
   "source": [
    "mask = df[\"Language\"].str.contains(\"mixed\")\n",
    "df[mask]\n"
   ]
  },
  {
   "cell_type": "markdown",
   "metadata": {},
   "source": [
    "Other languages than German are negligible, therefore we delete non-German records and adapt our DataFrame:"
   ]
  },
  {
   "cell_type": "code",
   "execution_count": 42,
   "metadata": {},
   "outputs": [],
   "source": [
    "mask2 = df[\"Language\"].str.contains(\"de\")\n",
    "df = df[mask2]"
   ]
  },
  {
   "cell_type": "markdown",
   "metadata": {},
   "source": [
    "## Analysis RVK notation"
   ]
  },
  {
   "cell_type": "markdown",
   "metadata": {},
   "source": [
    "Some of the recordings have two RVKs. In the first step, we look at how many rows there are with more than one RVK (True)."
   ]
  },
  {
   "cell_type": "code",
   "execution_count": 43,
   "metadata": {},
   "outputs": [
    {
     "data": {
      "text/plain": [
       "False    12937\n",
       "True      2109\n",
       "Name: RVK(s), dtype: int64"
      ]
     },
     "execution_count": 43,
     "metadata": {},
     "output_type": "execute_result"
    }
   ],
   "source": [
    "rvk_distribution = df[\"RVK(s)\"].str.contains(\"|\", regex=False).value_counts()\n",
    "rvk_distribution"
   ]
  },
  {
   "cell_type": "code",
   "execution_count": 44,
   "metadata": {},
   "outputs": [
    {
     "data": {
      "text/plain": [
       "<Axes: >"
      ]
     },
     "execution_count": 44,
     "metadata": {},
     "output_type": "execute_result"
    },
    {
     "data": {
      "image/png": "[encoded data removed]",
      "text/plain": [
       "<Figure size 640x480 with 1 Axes>"
      ]
     },
     "metadata": {},
     "output_type": "display_data"
    }
   ],
   "source": [
    "rvk_distribution.plot(kind=\"bar\")"
   ]
  },
  {
   "cell_type": "markdown",
   "metadata": {},
   "source": [
    "## Checking depth of RVK Notation\n",
    "In the next steps we use the first RVK if there are two und analyse the depth of RVK notations. First, we remove the second RVK if available and adapt our DataFrame:"
   ]
  },
  {
   "cell_type": "code",
   "execution_count": 45,
   "metadata": {},
   "outputs": [],
   "source": [
    "def remove_second_rvk(x):\n",
    "\tif \"|\" in x:\n",
    "\t\tfirst_rvk, *_ = x.split(\"|\")\n",
    "\t\treturn first_rvk\n",
    "\telse:\n",
    "\t\treturn x\n",
    "\n",
    "df[\"RVK\"] = df[\"RVK(s)\"].apply(remove_second_rvk)\n",
    "# Delete columns \"RVK(s)\"\n",
    "del df[\"RVK(s)\"] "
   ]
  },
  {
   "cell_type": "markdown",
   "metadata": {},
   "source": [
    "Check, if it has worked."
   ]
  },
  {
   "cell_type": "code",
   "execution_count": 46,
   "metadata": {},
   "outputs": [
    {
     "data": {
      "text/plain": [
       "False    15046\n",
       "Name: RVK, dtype: int64"
      ]
     },
     "execution_count": 46,
     "metadata": {},
     "output_type": "execute_result"
    }
   ],
   "source": [
    "rvk_distribution = df[\"RVK\"].str.contains(\"|\", regex=False).value_counts()\n",
    "rvk_distribution"
   ]
  },
  {
   "cell_type": "markdown",
   "metadata": {},
   "source": [
    "Now we analyse the depth of each RVK notation. We assign return values to a new column \"Depth\"."
   ]
  },
  {
   "cell_type": "code",
   "execution_count": 47,
   "metadata": {},
   "outputs": [
    {
     "data": {
      "text/html": [
       "<div>\n",
       "<style scoped>\n",
       "    .dataframe tbody tr th:only-of-type {\n",
       "        vertical-align: middle;\n",
       "    }\n",
       "\n",
       "    .dataframe tbody tr th {\n",
       "        vertical-align: top;\n",
       "    }\n",
       "\n",
       "    .dataframe thead th {\n",
       "        text-align: right;\n",
       "    }\n",
       "</style>\n",
       "<table border=\"1\" class=\"dataframe\">\n",
       "  <thead>\n",
       "    <tr style=\"text-align: right;\">\n",
       "      <th></th>\n",
       "      <th>UID</th>\n",
       "      <th>Discipline</th>\n",
       "      <th>Title</th>\n",
       "      <th>Keywords</th>\n",
       "      <th>Language</th>\n",
       "      <th>RVK</th>\n",
       "      <th>Length_RVK</th>\n",
       "    </tr>\n",
       "  </thead>\n",
       "  <tbody>\n",
       "    <tr>\n",
       "      <th>1</th>\n",
       "      <td>46842</td>\n",
       "      <td>Wirtschaft / Recht</td>\n",
       "      <td>Die interne Revision als Internal Consultant -...</td>\n",
       "      <td>Hochschulschrift</td>\n",
       "      <td>de</td>\n",
       "      <td>PN 216</td>\n",
       "      <td>3</td>\n",
       "    </tr>\n",
       "    <tr>\n",
       "      <th>2</th>\n",
       "      <td>252219</td>\n",
       "      <td>Europäisches Management</td>\n",
       "      <td>Der Krieg um die Talente geht weiter: Organisa...</td>\n",
       "      <td>Organisationsentwicklung|Dienstleistungsbetrie...</td>\n",
       "      <td>de</td>\n",
       "      <td>QP 120</td>\n",
       "      <td>3</td>\n",
       "    </tr>\n",
       "    <tr>\n",
       "      <th>3</th>\n",
       "      <td>252220</td>\n",
       "      <td>Europäisches Management</td>\n",
       "      <td>Der zentralamerikanischen Zollunion: Fortschri...</td>\n",
       "      <td>Zollunion|Freier Warenverkehr|Hochschulschrift...</td>\n",
       "      <td>de</td>\n",
       "      <td>QP 120</td>\n",
       "      <td>3</td>\n",
       "    </tr>\n",
       "    <tr>\n",
       "      <th>4</th>\n",
       "      <td>48555</td>\n",
       "      <td>Betriebswirtschaft</td>\n",
       "      <td>Global Sourcing im Einkauf von Fertigwaren - d...</td>\n",
       "      <td>Hochschulschrift</td>\n",
       "      <td>de</td>\n",
       "      <td>QP 120</td>\n",
       "      <td>3</td>\n",
       "    </tr>\n",
       "    <tr>\n",
       "      <th>5</th>\n",
       "      <td>4721</td>\n",
       "      <td>Allgemeiner Maschinenbau</td>\n",
       "      <td>Konstruktion eines Werkzeugeinstellplanes für ...</td>\n",
       "      <td>Werkzeugplanung|Konstruktion|Hochschulschrift|...</td>\n",
       "      <td>de</td>\n",
       "      <td>ZL 3000</td>\n",
       "      <td>4</td>\n",
       "    </tr>\n",
       "  </tbody>\n",
       "</table>\n",
       "</div>"
      ],
      "text/plain": [
       "      UID                Discipline  \\\n",
       "1   46842        Wirtschaft / Recht   \n",
       "2  252219   Europäisches Management   \n",
       "3  252220   Europäisches Management   \n",
       "4   48555        Betriebswirtschaft   \n",
       "5    4721  Allgemeiner Maschinenbau   \n",
       "\n",
       "                                               Title  \\\n",
       "1  Die interne Revision als Internal Consultant -...   \n",
       "2  Der Krieg um die Talente geht weiter: Organisa...   \n",
       "3  Der zentralamerikanischen Zollunion: Fortschri...   \n",
       "4  Global Sourcing im Einkauf von Fertigwaren - d...   \n",
       "5  Konstruktion eines Werkzeugeinstellplanes für ...   \n",
       "\n",
       "                                            Keywords Language      RVK  \\\n",
       "1                                   Hochschulschrift       de   PN 216   \n",
       "2  Organisationsentwicklung|Dienstleistungsbetrie...       de   QP 120   \n",
       "3  Zollunion|Freier Warenverkehr|Hochschulschrift...       de   QP 120   \n",
       "4                                   Hochschulschrift       de   QP 120   \n",
       "5  Werkzeugplanung|Konstruktion|Hochschulschrift|...       de  ZL 3000   \n",
       "\n",
       "   Length_RVK  \n",
       "1           3  \n",
       "2           3  \n",
       "3           3  \n",
       "4           3  \n",
       "5           4  "
      ]
     },
     "execution_count": 47,
     "metadata": {},
     "output_type": "execute_result"
    }
   ],
   "source": [
    "def get_depth_of_rvk(x):\n",
    "\tletters, numbers = x.split(\" \")\n",
    "\treturn len(numbers)\n",
    "\n",
    "df[\"Length_RVK\"] = df[\"RVK\"].apply(get_depth_of_rvk)\n",
    "df.head()\n"
   ]
  },
  {
   "cell_type": "markdown",
   "metadata": {},
   "source": [
    "### Depth"
   ]
  },
  {
   "cell_type": "code",
   "execution_count": 48,
   "metadata": {},
   "outputs": [
    {
     "data": {
      "text/plain": [
       "3    11726\n",
       "4     3320\n",
       "Name: Length_RVK, dtype: int64"
      ]
     },
     "execution_count": 48,
     "metadata": {},
     "output_type": "execute_result"
    }
   ],
   "source": [
    "distribution_length_rvk = df[\"Length_RVK\"].value_counts()\n",
    "distribution_length_rvk"
   ]
  },
  {
   "cell_type": "code",
   "execution_count": 49,
   "metadata": {},
   "outputs": [
    {
     "data": {
      "text/plain": [
       "<Axes: >"
      ]
     },
     "execution_count": 49,
     "metadata": {},
     "output_type": "execute_result"
    },
    {
     "data": {
      "image/png": "[encoded data removed]",
      "text/plain": [
       "<Figure size 640x480 with 1 Axes>"
      ]
     },
     "metadata": {},
     "output_type": "display_data"
    }
   ],
   "source": [
    "distribution_length_rvk.plot(kind=\"bar\")"
   ]
  },
  {
   "cell_type": "markdown",
   "metadata": {},
   "source": [
    "### Distribution of RVKs"
   ]
  },
  {
   "cell_type": "code",
   "execution_count": 50,
   "metadata": {},
   "outputs": [
    {
     "data": {
      "text/plain": [
       "<Axes: >"
      ]
     },
     "execution_count": 50,
     "metadata": {},
     "output_type": "execute_result"
    },
    {
     "data": {
      "image/png": "[encoded data removed]",
      "text/plain": [
       "<Figure size 640x480 with 1 Axes>"
      ]
     },
     "metadata": {},
     "output_type": "display_data"
    }
   ],
   "source": [
    "distribution_rvks = df[\"RVK\"].value_counts()\n",
    "distribution_rvks.plot(kind=\"bar\")"
   ]
  },
  {
   "cell_type": "markdown",
   "metadata": {},
   "source": [
    "## Research Fields\n",
    "At the end we check what research fields are covered:"
   ]
  },
  {
   "cell_type": "code",
   "execution_count": 51,
   "metadata": {},
   "outputs": [
    {
     "data": {
      "text/plain": [
       "Betriebswirtschaft                                3499\n",
       "Wirtschaftsingenieurwesen                         1655\n",
       "Wirtschaft / Recht                                1546\n",
       "Maschinenbau                                       992\n",
       "Wirtschaftsinformatik                              947\n",
       "Logistik                                           863\n",
       "Europäisches Management                            698\n",
       "Telematik                                          644\n",
       "Verwaltung / Recht                                 641\n",
       "Luftfahrttechnik / Luftfahrtlogistik               639\n",
       "Business Management                                508\n",
       "Biosystemtechnik / Bioinformatik                   471\n",
       "Allgemeiner Maschinenbau                           229\n",
       "Technisches Management / Logistik                  219\n",
       "Öffentliche Verwaltung Brandenburg                 218\n",
       "Physikalische Technik                              212\n",
       "Photonik                                           165\n",
       "Technologie der metallverarbeitenden Industrie     160\n",
       "Verfahrenstechnik                                   92\n",
       "Konstruktion                                        83\n",
       "Technologie                                         80\n",
       "Kommunales Verwaltungsmanagement / Recht            80\n",
       "Automatisierungstechnik                             75\n",
       "Öffentliche Verwaltung                              65\n",
       "Business Administration                             58\n",
       "Physikalische Technologien / Energiesysteme         31\n",
       "Bibliotheksinformatik                               30\n",
       "Technical Management                                29\n",
       "Logistics / Supply Chain Management                 26\n",
       "Kunststofftechnik                                   21\n",
       "Verkehrssystemtechnik                               21\n",
       "Aviation Management                                 20\n",
       "Automatisierte Energiesysteme                       17\n",
       "Ingenieurwesen                                      12\n",
       "Name: Discipline, dtype: int64"
      ]
     },
     "execution_count": 51,
     "metadata": {},
     "output_type": "execute_result"
    }
   ],
   "source": [
    "df[\"Discipline\"].value_counts()"
   ]
  },
  {
   "cell_type": "markdown",
   "metadata": {},
   "source": [
    "## Save to file"
   ]
  },
  {
   "cell_type": "code",
   "execution_count": 52,
   "metadata": {},
   "outputs": [],
   "source": [
    "df.to_csv(\"records_cleaned.csv\", index=False)"
   ]
  },
  {
   "cell_type": "markdown",
   "metadata": {},
   "source": []
  }
 ],
 "metadata": {
  "kernelspec": {
   "display_name": "Python 3.9.6 64-bit",
   "language": "python",
   "name": "python3"
  },
  "language_info": {
   "codemirror_mode": {
    "name": "ipython",
    "version": 3
   },
   "file_extension": ".py",
   "mimetype": "text/x-python",
   "name": "python",
   "nbconvert_exporter": "python",
   "pygments_lexer": "ipython3",
   "version": "3.9.6"
  },
  "orig_nbformat": 4,
  "vscode": {
   "interpreter": {
    "hash": "31f2aee4e71d21fbe5cf8b01ff0e069b9275f58929596ceb00d14d90e3e16cd6"
   }
  }
 },
 "nbformat": 4,
 "nbformat_minor": 2
}
