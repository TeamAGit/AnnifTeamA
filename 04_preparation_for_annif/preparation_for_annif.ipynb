{
 "cells": [
  {
   "cell_type": "code",
   "execution_count": 1,
   "metadata": {},
   "outputs": [],
   "source": [
    "import os\n",
    "import pandas as pd"
   ]
  },
  {
   "cell_type": "markdown",
   "metadata": {},
   "source": [
    "## Preparation for Annif\n",
    "In this Jupyter Notebook we have to prepare the data for Annif. Annif requires a folder \"docs\" and in that folder we have to store 2 files for each record:\n",
    "+ A tsv file containing the RVK uri and its description.\n",
    "+ A txt file containing text. Text means in our case: Discipline, Title, Keywords. Maybe in the near future tables of contents as well."
   ]
  },
  {
   "cell_type": "code",
   "execution_count": 3,
   "metadata": {},
   "outputs": [
    {
     "data": {
      "text/html": [
       "<div>\n",
       "<style scoped>\n",
       "    .dataframe tbody tr th:only-of-type {\n",
       "        vertical-align: middle;\n",
       "    }\n",
       "\n",
       "    .dataframe tbody tr th {\n",
       "        vertical-align: top;\n",
       "    }\n",
       "\n",
       "    .dataframe thead th {\n",
       "        text-align: right;\n",
       "    }\n",
       "</style>\n",
       "<table border=\"1\" class=\"dataframe\">\n",
       "  <thead>\n",
       "    <tr style=\"text-align: right;\">\n",
       "      <th></th>\n",
       "      <th>UID</th>\n",
       "      <th>Discipline</th>\n",
       "      <th>Title</th>\n",
       "      <th>Keywords</th>\n",
       "      <th>Language</th>\n",
       "      <th>RVK</th>\n",
       "      <th>Length_RVK</th>\n",
       "    </tr>\n",
       "  </thead>\n",
       "  <tbody>\n",
       "    <tr>\n",
       "      <th>0</th>\n",
       "      <td>46842</td>\n",
       "      <td>Wirtschaft / Recht</td>\n",
       "      <td>Die interne Revision als Internal Consultant -...</td>\n",
       "      <td>Hochschulschrift</td>\n",
       "      <td>de</td>\n",
       "      <td>PN 216</td>\n",
       "      <td>3</td>\n",
       "    </tr>\n",
       "    <tr>\n",
       "      <th>1</th>\n",
       "      <td>252219</td>\n",
       "      <td>Europäisches Management</td>\n",
       "      <td>Der Krieg um die Talente geht weiter: Organisa...</td>\n",
       "      <td>Organisationsentwicklung|Dienstleistungsbetrie...</td>\n",
       "      <td>de</td>\n",
       "      <td>QP 120</td>\n",
       "      <td>3</td>\n",
       "    </tr>\n",
       "  </tbody>\n",
       "</table>\n",
       "</div>"
      ],
      "text/plain": [
       "      UID               Discipline  \\\n",
       "0   46842       Wirtschaft / Recht   \n",
       "1  252219  Europäisches Management   \n",
       "\n",
       "                                               Title  \\\n",
       "0  Die interne Revision als Internal Consultant -...   \n",
       "1  Der Krieg um die Talente geht weiter: Organisa...   \n",
       "\n",
       "                                            Keywords Language     RVK  \\\n",
       "0                                   Hochschulschrift       de  PN 216   \n",
       "1  Organisationsentwicklung|Dienstleistungsbetrie...       de  QP 120   \n",
       "\n",
       "   Length_RVK  \n",
       "0           3  \n",
       "1           3  "
      ]
     },
     "execution_count": 3,
     "metadata": {},
     "output_type": "execute_result"
    }
   ],
   "source": [
    "df = pd.read_csv(\"../cleaning_and_analysis/records_cleaned.csv\")\n",
    "df.head(2)"
   ]
  },
  {
   "cell_type": "markdown",
   "metadata": {},
   "source": [
    "### Merging Discipline, Keywords and Title to \"text\"\n",
    "Replace pipes with white space. Insert White spaces to avoid something like: \"Wirtschaft / RechtDie interne Revision als...\"."
   ]
  },
  {
   "cell_type": "code",
   "execution_count": 4,
   "metadata": {},
   "outputs": [
    {
     "data": {
      "text/html": [
       "<div>\n",
       "<style scoped>\n",
       "    .dataframe tbody tr th:only-of-type {\n",
       "        vertical-align: middle;\n",
       "    }\n",
       "\n",
       "    .dataframe tbody tr th {\n",
       "        vertical-align: top;\n",
       "    }\n",
       "\n",
       "    .dataframe thead th {\n",
       "        text-align: right;\n",
       "    }\n",
       "</style>\n",
       "<table border=\"1\" class=\"dataframe\">\n",
       "  <thead>\n",
       "    <tr style=\"text-align: right;\">\n",
       "      <th></th>\n",
       "      <th>UID</th>\n",
       "      <th>Discipline</th>\n",
       "      <th>Title</th>\n",
       "      <th>Keywords</th>\n",
       "      <th>Language</th>\n",
       "      <th>RVK</th>\n",
       "      <th>Length_RVK</th>\n",
       "    </tr>\n",
       "  </thead>\n",
       "  <tbody>\n",
       "    <tr>\n",
       "      <th>0</th>\n",
       "      <td>46842</td>\n",
       "      <td>Wirtschaft / Recht</td>\n",
       "      <td>Die interne Revision als Internal Consultant -...</td>\n",
       "      <td>Hochschulschrift</td>\n",
       "      <td>de</td>\n",
       "      <td>PN 216</td>\n",
       "      <td>3</td>\n",
       "    </tr>\n",
       "    <tr>\n",
       "      <th>1</th>\n",
       "      <td>252219</td>\n",
       "      <td>Europäisches Management</td>\n",
       "      <td>Der Krieg um die Talente geht weiter: Organisa...</td>\n",
       "      <td>Organisationsentwicklung Dienstleistungsbetri...</td>\n",
       "      <td>de</td>\n",
       "      <td>QP 120</td>\n",
       "      <td>3</td>\n",
       "    </tr>\n",
       "    <tr>\n",
       "      <th>2</th>\n",
       "      <td>252220</td>\n",
       "      <td>Europäisches Management</td>\n",
       "      <td>Der zentralamerikanischen Zollunion: Fortschri...</td>\n",
       "      <td>Zollunion Freier Warenverkehr Hochschulschrif...</td>\n",
       "      <td>de</td>\n",
       "      <td>QP 120</td>\n",
       "      <td>3</td>\n",
       "    </tr>\n",
       "    <tr>\n",
       "      <th>3</th>\n",
       "      <td>48555</td>\n",
       "      <td>Betriebswirtschaft</td>\n",
       "      <td>Global Sourcing im Einkauf von Fertigwaren - d...</td>\n",
       "      <td>Hochschulschrift</td>\n",
       "      <td>de</td>\n",
       "      <td>QP 120</td>\n",
       "      <td>3</td>\n",
       "    </tr>\n",
       "    <tr>\n",
       "      <th>4</th>\n",
       "      <td>4721</td>\n",
       "      <td>Allgemeiner Maschinenbau</td>\n",
       "      <td>Konstruktion eines Werkzeugeinstellplanes für ...</td>\n",
       "      <td>Werkzeugplanung Konstruktion Hochschulschrift...</td>\n",
       "      <td>de</td>\n",
       "      <td>ZL 3000</td>\n",
       "      <td>4</td>\n",
       "    </tr>\n",
       "  </tbody>\n",
       "</table>\n",
       "</div>"
      ],
      "text/plain": [
       "      UID                 Discipline  \\\n",
       "0   46842        Wirtschaft / Recht    \n",
       "1  252219   Europäisches Management    \n",
       "2  252220   Europäisches Management    \n",
       "3   48555        Betriebswirtschaft    \n",
       "4    4721  Allgemeiner Maschinenbau    \n",
       "\n",
       "                                               Title  \\\n",
       "0  Die interne Revision als Internal Consultant -...   \n",
       "1  Der Krieg um die Talente geht weiter: Organisa...   \n",
       "2  Der zentralamerikanischen Zollunion: Fortschri...   \n",
       "3  Global Sourcing im Einkauf von Fertigwaren - d...   \n",
       "4  Konstruktion eines Werkzeugeinstellplanes für ...   \n",
       "\n",
       "                                            Keywords Language      RVK  \\\n",
       "0                                   Hochschulschrift       de   PN 216   \n",
       "1   Organisationsentwicklung Dienstleistungsbetri...       de   QP 120   \n",
       "2   Zollunion Freier Warenverkehr Hochschulschrif...       de   QP 120   \n",
       "3                                   Hochschulschrift       de   QP 120   \n",
       "4   Werkzeugplanung Konstruktion Hochschulschrift...       de  ZL 3000   \n",
       "\n",
       "   Length_RVK  \n",
       "0           3  \n",
       "1           3  \n",
       "2           3  \n",
       "3           3  \n",
       "4           4  "
      ]
     },
     "execution_count": 4,
     "metadata": {},
     "output_type": "execute_result"
    }
   ],
   "source": [
    "df[\"Keywords\"] = df[\"Keywords\"].apply(lambda x: \" \" + x.replace(\"|\", \" \"))\n",
    "df[\"Discipline\"] = df[\"Discipline\"].apply(lambda x: x + \" \")\n",
    "df.head()"
   ]
  },
  {
   "cell_type": "markdown",
   "metadata": {},
   "source": [
    "New column \"text\":"
   ]
  },
  {
   "cell_type": "code",
   "execution_count": 5,
   "metadata": {},
   "outputs": [
    {
     "data": {
      "text/plain": [
       "0        Wirtschaft / Recht Die interne Revision als In...\n",
       "1        Europäisches Management Der Krieg um die Talen...\n",
       "2        Europäisches Management Der zentralamerikanisc...\n",
       "3        Betriebswirtschaft Global Sourcing im Einkauf ...\n",
       "4        Allgemeiner Maschinenbau Konstruktion eines We...\n",
       "                               ...                        \n",
       "15041    Business Management Digitale Geschäftsmodelle ...\n",
       "15042    Wirtschaftsingenieurwesen Auswahl von mindeste...\n",
       "15043    Wirtschaft / Recht Die Verfassungsmäßigkeit de...\n",
       "15044    Europäisches Management Chancen und Risiken ei...\n",
       "15045    Öffentliche Verwaltung Brandenburg Die Werbesa...\n",
       "Name: text, Length: 15046, dtype: object"
      ]
     },
     "execution_count": 5,
     "metadata": {},
     "output_type": "execute_result"
    }
   ],
   "source": [
    "df[\"text\"] = df[\"Discipline\"] + df[\"Title\"] + df[\"Keywords\"]\n",
    "df[\"text\"]"
   ]
  },
  {
   "cell_type": "markdown",
   "metadata": {},
   "source": [
    "### Create URI for each RVK\n",
    "The same approach is applied as in file: \"../rvk_transformation/rvk_classification_flattened_with_uri.tsv\""
   ]
  },
  {
   "cell_type": "code",
   "execution_count": 6,
   "metadata": {},
   "outputs": [
    {
     "data": {
      "text/plain": [
       "0         th-wildau:PN216\n",
       "1         th-wildau:QP120\n",
       "2         th-wildau:QP120\n",
       "3         th-wildau:QP120\n",
       "4        th-wildau:ZL3000\n",
       "               ...       \n",
       "15041     th-wildau:QP120\n",
       "15042     th-wildau:QP500\n",
       "15043     th-wildau:PN216\n",
       "15044     th-wildau:QP120\n",
       "15045     th-wildau:PN216\n",
       "Name: uri, Length: 15046, dtype: object"
      ]
     },
     "execution_count": 6,
     "metadata": {},
     "output_type": "execute_result"
    }
   ],
   "source": [
    "uri_base = \"th-wildau:\"\n",
    "df[\"uri\"] = uri_base + df[\"RVK\"].str.replace(\" \", \"\")\n",
    "df[\"uri\"]"
   ]
  },
  {
   "cell_type": "markdown",
   "metadata": {},
   "source": [
    "### Create a Tsv File for Step 03_train_project\n",
    "In the following steps, we create a tsv file for step 03_train_project containing 2 columns:\n",
    "+ The column \"text\" - which is in our case discipline, title, keywords.\n",
    "+ The column \"uri\" for ech record.\n"
   ]
  },
  {
   "cell_type": "code",
   "execution_count": 7,
   "metadata": {},
   "outputs": [],
   "source": [
    "columns = [\"text\", \"uri\"]\n",
    "df2 = df[columns]\n",
    "df2.to_csv(\"records_for_step_03_train_project_annif.tsv\", sep=\"\\t\", index=False)"
   ]
  },
  {
   "cell_type": "markdown",
   "metadata": {},
   "source": [
    "### A Folder with Data for Step 07\n",
    "We store all data we need for step_07 in a new dataframe df2.\n",
    "+ We need UID to create an unique file name.\n",
    "+ We need \"text\" and \"uri\" to feed Annif.\n",
    "\n",
    "Then we open \"../rvk_transformation/rvk_classification_flattened_with_uri.tsv\" as a dataframe (df_rvks) and merge it with df2. We apply a left join to assign the RVK descriptors to our records in df2."
   ]
  },
  {
   "cell_type": "code",
   "execution_count": 8,
   "metadata": {},
   "outputs": [
    {
     "data": {
      "text/html": [
       "<div>\n",
       "<style scoped>\n",
       "    .dataframe tbody tr th:only-of-type {\n",
       "        vertical-align: middle;\n",
       "    }\n",
       "\n",
       "    .dataframe tbody tr th {\n",
       "        vertical-align: top;\n",
       "    }\n",
       "\n",
       "    .dataframe thead th {\n",
       "        text-align: right;\n",
       "    }\n",
       "</style>\n",
       "<table border=\"1\" class=\"dataframe\">\n",
       "  <thead>\n",
       "    <tr style=\"text-align: right;\">\n",
       "      <th></th>\n",
       "      <th>UID</th>\n",
       "      <th>text</th>\n",
       "      <th>uri</th>\n",
       "    </tr>\n",
       "  </thead>\n",
       "  <tbody>\n",
       "    <tr>\n",
       "      <th>0</th>\n",
       "      <td>46842</td>\n",
       "      <td>Wirtschaft / Recht Die interne Revision als In...</td>\n",
       "      <td>th-wildau:PN216</td>\n",
       "    </tr>\n",
       "    <tr>\n",
       "      <th>1</th>\n",
       "      <td>252219</td>\n",
       "      <td>Europäisches Management Der Krieg um die Talen...</td>\n",
       "      <td>th-wildau:QP120</td>\n",
       "    </tr>\n",
       "  </tbody>\n",
       "</table>\n",
       "</div>"
      ],
      "text/plain": [
       "      UID                                               text              uri\n",
       "0   46842  Wirtschaft / Recht Die interne Revision als In...  th-wildau:PN216\n",
       "1  252219  Europäisches Management Der Krieg um die Talen...  th-wildau:QP120"
      ]
     },
     "execution_count": 8,
     "metadata": {},
     "output_type": "execute_result"
    }
   ],
   "source": [
    "columns = [\"UID\", \"text\", \"uri\"]\n",
    "df3 = df[columns]\n",
    "df3.head(2)"
   ]
  },
  {
   "cell_type": "code",
   "execution_count": 9,
   "metadata": {},
   "outputs": [
    {
     "data": {
      "text/html": [
       "<div>\n",
       "<style scoped>\n",
       "    .dataframe tbody tr th:only-of-type {\n",
       "        vertical-align: middle;\n",
       "    }\n",
       "\n",
       "    .dataframe tbody tr th {\n",
       "        vertical-align: top;\n",
       "    }\n",
       "\n",
       "    .dataframe thead th {\n",
       "        text-align: right;\n",
       "    }\n",
       "</style>\n",
       "<table border=\"1\" class=\"dataframe\">\n",
       "  <thead>\n",
       "    <tr style=\"text-align: right;\">\n",
       "      <th></th>\n",
       "      <th>notation</th>\n",
       "      <th>description</th>\n",
       "      <th>uri</th>\n",
       "    </tr>\n",
       "  </thead>\n",
       "  <tbody>\n",
       "    <tr>\n",
       "      <th>0</th>\n",
       "      <td>A</td>\n",
       "      <td>Allgemeines</td>\n",
       "      <td>th-wildau:A</td>\n",
       "    </tr>\n",
       "    <tr>\n",
       "      <th>1</th>\n",
       "      <td>AA</td>\n",
       "      <td>Bibliografien der Bibliografien, Universalbibl...</td>\n",
       "      <td>th-wildau:AA</td>\n",
       "    </tr>\n",
       "  </tbody>\n",
       "</table>\n",
       "</div>"
      ],
      "text/plain": [
       "  notation                                        description           uri\n",
       "0        A                                        Allgemeines   th-wildau:A\n",
       "1       AA  Bibliografien der Bibliografien, Universalbibl...  th-wildau:AA"
      ]
     },
     "execution_count": 9,
     "metadata": {},
     "output_type": "execute_result"
    }
   ],
   "source": [
    "df_rvks = pd.read_csv(\"../rvk_transformation/rvk_classification_flattened_with_uri.tsv\", delimiter=\"\\t\")\n",
    "df_rvks.head(2)"
   ]
  },
  {
   "cell_type": "code",
   "execution_count": 10,
   "metadata": {},
   "outputs": [
    {
     "data": {
      "text/html": [
       "<div>\n",
       "<style scoped>\n",
       "    .dataframe tbody tr th:only-of-type {\n",
       "        vertical-align: middle;\n",
       "    }\n",
       "\n",
       "    .dataframe tbody tr th {\n",
       "        vertical-align: top;\n",
       "    }\n",
       "\n",
       "    .dataframe thead th {\n",
       "        text-align: right;\n",
       "    }\n",
       "</style>\n",
       "<table border=\"1\" class=\"dataframe\">\n",
       "  <thead>\n",
       "    <tr style=\"text-align: right;\">\n",
       "      <th></th>\n",
       "      <th>UID</th>\n",
       "      <th>text</th>\n",
       "      <th>uri</th>\n",
       "      <th>notation</th>\n",
       "      <th>description</th>\n",
       "    </tr>\n",
       "  </thead>\n",
       "  <tbody>\n",
       "    <tr>\n",
       "      <th>0</th>\n",
       "      <td>46842</td>\n",
       "      <td>Wirtschaft / Recht Die interne Revision als In...</td>\n",
       "      <td>th-wildau:PN216</td>\n",
       "      <td>PN 216</td>\n",
       "      <td>Allgemeines</td>\n",
       "    </tr>\n",
       "    <tr>\n",
       "      <th>1</th>\n",
       "      <td>252219</td>\n",
       "      <td>Europäisches Management Der Krieg um die Talen...</td>\n",
       "      <td>th-wildau:QP120</td>\n",
       "      <td>QP 120</td>\n",
       "      <td>Gesamtdarstellungen der Betriebswirtschaftslehre</td>\n",
       "    </tr>\n",
       "  </tbody>\n",
       "</table>\n",
       "</div>"
      ],
      "text/plain": [
       "      UID                                               text              uri  \\\n",
       "0   46842  Wirtschaft / Recht Die interne Revision als In...  th-wildau:PN216   \n",
       "1  252219  Europäisches Management Der Krieg um die Talen...  th-wildau:QP120   \n",
       "\n",
       "  notation                                       description  \n",
       "0   PN 216                                       Allgemeines  \n",
       "1   QP 120  Gesamtdarstellungen der Betriebswirtschaftslehre  "
      ]
     },
     "execution_count": 10,
     "metadata": {},
     "output_type": "execute_result"
    }
   ],
   "source": [
    "# Left join: Data of df2 will be supplemented by RVK \"description\".\n",
    "combined_df = df3.merge(df_rvks, on=\"uri\", how=\"left\")\n",
    "combined_df.head(2)"
   ]
  },
  {
   "cell_type": "markdown",
   "metadata": {},
   "source": [
    "### A Folder called \"docs\"\n",
    "We create a folder docs where we put in the data..."
   ]
  },
  {
   "cell_type": "code",
   "execution_count": 11,
   "metadata": {},
   "outputs": [],
   "source": [
    "# Create folder \"docs\" if it does not exist.\n",
    "if not os.path.exists(\"docs\"):\n",
    "    os.makedirs(\"docs\")"
   ]
  },
  {
   "cell_type": "markdown",
   "metadata": {},
   "source": [
    "### Create a tsv and txt file for each record\n",
    "In that folder we put a tsv and a txt file.\n",
    "* The tsv file contains one or more RVKs (as of 2023-08-24 only one RVK).\n",
    "* The txt file contains the \"full text\" which is discipline + title + keywords."
   ]
  },
  {
   "cell_type": "code",
   "execution_count": 12,
   "metadata": {},
   "outputs": [
    {
     "data": {
      "text/plain": [
       "0        None\n",
       "1        None\n",
       "2        None\n",
       "3        None\n",
       "4        None\n",
       "         ... \n",
       "15041    None\n",
       "15042    None\n",
       "15043    None\n",
       "15044    None\n",
       "15045    None\n",
       "Length: 15046, dtype: object"
      ]
     },
     "execution_count": 12,
     "metadata": {},
     "output_type": "execute_result"
    }
   ],
   "source": [
    "# Function that will be called for each row. It creates a tsv and a txt by the record's UID and then saves content to tsv and txt.\n",
    "def create_files(row):\n",
    "    tsv_filename = os.path.join(\"docs\", f\"{row['UID']}.tsv\")\n",
    "    txt_filename = os.path.join(\"docs\", f\"{row['UID']}.txt\")\n",
    "\n",
    "    with open(tsv_filename, 'w') as tsv_file:\n",
    "        # Write uri and uri description to file.\n",
    "        tsv_file.write(f\"{row['uri']}\\t{row['description']}\\n\")\n",
    "\n",
    "    with open(txt_filename, \"w\") as txt_file:\n",
    "        # Write \"text\" to file.\n",
    "        txt_file.write(row[\"text\"])\n",
    "\n",
    "# Apply function for each row by using axis parameter 1.\n",
    "combined_df.apply(create_files, axis=1)"
   ]
  },
  {
   "cell_type": "code",
   "execution_count": null,
   "metadata": {},
   "outputs": [],
   "source": []
  }
 ],
 "metadata": {
  "kernelspec": {
   "display_name": "Python 3.9.6 64-bit",
   "language": "python",
   "name": "python3"
  },
  "language_info": {
   "codemirror_mode": {
    "name": "ipython",
    "version": 3
   },
   "file_extension": ".py",
   "mimetype": "text/x-python",
   "name": "python",
   "nbconvert_exporter": "python",
   "pygments_lexer": "ipython3",
   "version": "3.9.6"
  },
  "orig_nbformat": 4,
  "vscode": {
   "interpreter": {
    "hash": "31f2aee4e71d21fbe5cf8b01ff0e069b9275f58929596ceb00d14d90e3e16cd6"
   }
  }
 },
 "nbformat": 4,
 "nbformat_minor": 2
}
